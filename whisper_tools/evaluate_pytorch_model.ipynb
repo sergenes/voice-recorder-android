{
 "cells": [
  {
   "cell_type": "code",
   "execution_count": null,
   "outputs": [],
   "source": [
    "# Use a pipeline as a high-level helper\n",
    "from transformers import pipeline\n",
    "# Create the pipeline\n",
    "pipe = pipeline('automatic-speech-recognition', model='mike249/whisper-tiny-he-2')\n",
    "# Specify the path to your wave file\n",
    "audio_file = '/content/test.wav'\n",
    "\n",
    "# Load the audio file\n",
    "with open(audio_file, 'rb') as f:\n",
    "    audio_bytes = f.read()\n",
    "\n",
    "print(\"Audio Bytes (first 10 samples):\", audio_bytes[:100])\n",
    "# Transcribe the audio\n",
    "transcription = pipe(audio_bytes)['text']\n",
    "\n",
    "print(transcription)"
   ],
   "metadata": {
    "collapsed": false,
    "pycharm": {
     "name": "#%%\n"
    }
   }
  }
 ],
 "metadata": {
  "kernelspec": {
   "display_name": "Python 3",
   "language": "python",
   "name": "python3"
  },
  "language_info": {
   "codemirror_mode": {
    "name": "ipython",
    "version": 2
   },
   "file_extension": ".py",
   "mimetype": "text/x-python",
   "name": "python",
   "nbconvert_exporter": "python",
   "pygments_lexer": "ipython2",
   "version": "2.7.6"
  },
  "colab": {
   "provenance": []
  }
 },
 "nbformat": 4,
 "nbformat_minor": 0
}